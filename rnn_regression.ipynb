{
 "cells": [
  {
   "cell_type": "code",
   "execution_count": 24,
   "metadata": {},
   "outputs": [
    {
     "name": "stdout",
     "output_type": "stream",
     "text": [
      "2.16.1\n"
     ]
    }
   ],
   "source": [
    "import numpy as np\n",
    "import matplotlib.pyplot as plt\n",
    "import pandas as pd\n",
    "import tensorflow as tf\n",
    "import keras\n",
    "# get tf version\n",
    "print(tf.__version__)\n",
    "from keras.layers import Dense, LSTM, Input\n",
    "from keras import Sequential\n",
    "from sklearn.preprocessing import MinMaxScaler\n",
    "from sklearn.metrics import mean_squared_error"
   ]
  },
  {
   "cell_type": "code",
   "execution_count": 25,
   "metadata": {},
   "outputs": [],
   "source": [
    "# fix random seed for reproducibility\n",
    "tf.random.set_seed(7)"
   ]
  },
  {
   "cell_type": "code",
   "execution_count": 26,
   "metadata": {},
   "outputs": [],
   "source": [
    "df_avg = pd.read_csv('data/new_avg.csv')\n",
    "date_time = pd.to_datetime(df_avg.pop('date'), format='%Y-%m-%d')\n",
    "ds_avg = df_avg.to_numpy()\n",
    "ds_avg = ds_avg.astype(\"float32\")"
   ]
  },
  {
   "cell_type": "code",
   "execution_count": 27,
   "metadata": {},
   "outputs": [],
   "source": [
    "# scale data\n",
    "\n",
    "# normalize the dataset\n",
    "scaler = MinMaxScaler(feature_range=(0, 1))\n",
    "ds_avg = scaler.fit_transform(ds_avg)"
   ]
  },
  {
   "cell_type": "code",
   "execution_count": 28,
   "metadata": {},
   "outputs": [
    {
     "name": "stdout",
     "output_type": "stream",
     "text": [
      "64 32\n"
     ]
    },
    {
     "data": {
      "text/plain": [
       "(64, 19)"
      ]
     },
     "execution_count": 28,
     "metadata": {},
     "output_type": "execute_result"
    }
   ],
   "source": [
    "# split into train and test sets\n",
    "train_size = int(len(ds_avg) * 0.67)\n",
    "test_size = len(ds_avg) - train_size\n",
    "train, test = ds_avg[0:train_size,:], ds_avg[train_size:len(ds_avg),:]\n",
    "print(len(train), len(test))\n",
    "train.shape"
   ]
  },
  {
   "cell_type": "code",
   "execution_count": 29,
   "metadata": {},
   "outputs": [],
   "source": [
    "# convert an array of values into a dataset matrix\n",
    "def create_dataset(dataset, look_back=6):\n",
    "\tdata_x, data_y = [], []\n",
    "\tfor i in range(len(dataset)-look_back-1):\n",
    "\t\ta = dataset[i:(i+look_back)]\n",
    "\t\tdata_x.append(a)\n",
    "\t\tdata_y.append(dataset[i + look_back])\n",
    "\treturn np.array(data_x), np.array(data_y)"
   ]
  },
  {
   "cell_type": "code",
   "execution_count": 30,
   "metadata": {},
   "outputs": [
    {
     "data": {
      "text/plain": [
       "(57, 6, 19)"
      ]
     },
     "execution_count": 30,
     "metadata": {},
     "output_type": "execute_result"
    }
   ],
   "source": [
    "lookback = 6\n",
    "train_X, train_y = create_dataset(train, lookback)\n",
    "test_X, test_y = create_dataset(test, lookback)\n",
    "train_X.shape"
   ]
  },
  {
   "cell_type": "code",
   "execution_count": 31,
   "metadata": {},
   "outputs": [
    {
     "data": {
      "text/plain": [
       "(57, 6, 19)"
      ]
     },
     "execution_count": 31,
     "metadata": {},
     "output_type": "execute_result"
    }
   ],
   "source": [
    "# reshape into [samples, time steps, features]\n",
    "\n",
    "# train_X = np.reshape(train_X, (train.shape[0], 6, train.shape[1]))\n",
    "# test_X = np.reshape(test_X, (test.shape[0], 6, tes.shape[1]))\n",
    "train_X.shape"
   ]
  },
  {
   "cell_type": "code",
   "execution_count": 45,
   "metadata": {},
   "outputs": [
    {
     "name": "stdout",
     "output_type": "stream",
     "text": [
      "Epoch 1/100\n",
      "57/57 - 5s - 93ms/step - loss: 0.0742\n",
      "Epoch 2/100\n",
      "57/57 - 0s - 5ms/step - loss: 0.0517\n",
      "Epoch 3/100\n",
      "57/57 - 0s - 4ms/step - loss: 0.0512\n",
      "Epoch 4/100\n",
      "57/57 - 0s - 5ms/step - loss: 0.0508\n",
      "Epoch 5/100\n",
      "57/57 - 0s - 6ms/step - loss: 0.0505\n",
      "Epoch 6/100\n",
      "57/57 - 0s - 4ms/step - loss: 0.0502\n",
      "Epoch 7/100\n",
      "57/57 - 0s - 4ms/step - loss: 0.0500\n",
      "Epoch 8/100\n",
      "57/57 - 0s - 6ms/step - loss: 0.0499\n",
      "Epoch 9/100\n",
      "57/57 - 0s - 5ms/step - loss: 0.0497\n",
      "Epoch 10/100\n",
      "57/57 - 0s - 5ms/step - loss: 0.0496\n",
      "Epoch 11/100\n",
      "57/57 - 0s - 6ms/step - loss: 0.0495\n",
      "Epoch 12/100\n",
      "57/57 - 0s - 6ms/step - loss: 0.0494\n",
      "Epoch 13/100\n",
      "57/57 - 0s - 6ms/step - loss: 0.0494\n",
      "Epoch 14/100\n",
      "57/57 - 0s - 6ms/step - loss: 0.0493\n",
      "Epoch 15/100\n",
      "57/57 - 0s - 6ms/step - loss: 0.0492\n",
      "Epoch 16/100\n",
      "57/57 - 0s - 5ms/step - loss: 0.0492\n",
      "Epoch 17/100\n",
      "57/57 - 0s - 5ms/step - loss: 0.0491\n",
      "Epoch 18/100\n",
      "57/57 - 0s - 4ms/step - loss: 0.0491\n",
      "Epoch 19/100\n",
      "57/57 - 0s - 4ms/step - loss: 0.0490\n",
      "Epoch 20/100\n",
      "57/57 - 0s - 4ms/step - loss: 0.0490\n",
      "Epoch 21/100\n",
      "57/57 - 0s - 4ms/step - loss: 0.0489\n",
      "Epoch 22/100\n",
      "57/57 - 0s - 5ms/step - loss: 0.0489\n",
      "Epoch 23/100\n",
      "57/57 - 0s - 5ms/step - loss: 0.0489\n",
      "Epoch 24/100\n",
      "57/57 - 0s - 5ms/step - loss: 0.0488\n",
      "Epoch 25/100\n",
      "57/57 - 0s - 7ms/step - loss: 0.0488\n",
      "Epoch 26/100\n",
      "57/57 - 0s - 7ms/step - loss: 0.0488\n",
      "Epoch 27/100\n",
      "57/57 - 0s - 6ms/step - loss: 0.0488\n",
      "Epoch 28/100\n",
      "57/57 - 0s - 5ms/step - loss: 0.0487\n",
      "Epoch 29/100\n",
      "57/57 - 0s - 5ms/step - loss: 0.0487\n",
      "Epoch 30/100\n",
      "57/57 - 0s - 8ms/step - loss: 0.0487\n",
      "Epoch 31/100\n",
      "57/57 - 0s - 9ms/step - loss: 0.0487\n",
      "Epoch 32/100\n",
      "57/57 - 0s - 5ms/step - loss: 0.0487\n",
      "Epoch 33/100\n",
      "57/57 - 0s - 5ms/step - loss: 0.0487\n",
      "Epoch 34/100\n",
      "57/57 - 0s - 9ms/step - loss: 0.0486\n",
      "Epoch 35/100\n",
      "57/57 - 1s - 9ms/step - loss: 0.0486\n",
      "Epoch 36/100\n",
      "57/57 - 1s - 9ms/step - loss: 0.0486\n",
      "Epoch 37/100\n",
      "57/57 - 1s - 9ms/step - loss: 0.0486\n",
      "Epoch 38/100\n",
      "57/57 - 0s - 7ms/step - loss: 0.0486\n",
      "Epoch 39/100\n",
      "57/57 - 0s - 7ms/step - loss: 0.0486\n",
      "Epoch 40/100\n",
      "57/57 - 0s - 7ms/step - loss: 0.0486\n",
      "Epoch 41/100\n",
      "57/57 - 0s - 7ms/step - loss: 0.0485\n",
      "Epoch 42/100\n",
      "57/57 - 0s - 7ms/step - loss: 0.0485\n",
      "Epoch 43/100\n",
      "57/57 - 1s - 9ms/step - loss: 0.0485\n",
      "Epoch 44/100\n",
      "57/57 - 1s - 9ms/step - loss: 0.0485\n",
      "Epoch 45/100\n",
      "57/57 - 1s - 9ms/step - loss: 0.0485\n",
      "Epoch 46/100\n",
      "57/57 - 1s - 9ms/step - loss: 0.0485\n",
      "Epoch 47/100\n",
      "57/57 - 1s - 9ms/step - loss: 0.0485\n",
      "Epoch 48/100\n",
      "57/57 - 1s - 10ms/step - loss: 0.0485\n",
      "Epoch 49/100\n",
      "57/57 - 0s - 6ms/step - loss: 0.0485\n",
      "Epoch 50/100\n",
      "57/57 - 0s - 7ms/step - loss: 0.0485\n",
      "Epoch 51/100\n",
      "57/57 - 1s - 10ms/step - loss: 0.0485\n",
      "Epoch 52/100\n",
      "57/57 - 1s - 10ms/step - loss: 0.0484\n",
      "Epoch 53/100\n",
      "57/57 - 1s - 9ms/step - loss: 0.0484\n",
      "Epoch 54/100\n",
      "57/57 - 1s - 9ms/step - loss: 0.0484\n",
      "Epoch 55/100\n",
      "57/57 - 1s - 9ms/step - loss: 0.0484\n",
      "Epoch 56/100\n",
      "57/57 - 1s - 11ms/step - loss: 0.0484\n",
      "Epoch 57/100\n",
      "57/57 - 1s - 11ms/step - loss: 0.0484\n",
      "Epoch 58/100\n",
      "57/57 - 1s - 11ms/step - loss: 0.0484\n",
      "Epoch 59/100\n",
      "57/57 - 0s - 6ms/step - loss: 0.0484\n",
      "Epoch 60/100\n",
      "57/57 - 0s - 9ms/step - loss: 0.0484\n",
      "Epoch 61/100\n",
      "57/57 - 1s - 9ms/step - loss: 0.0484\n",
      "Epoch 62/100\n",
      "57/57 - 1s - 9ms/step - loss: 0.0484\n",
      "Epoch 63/100\n",
      "57/57 - 1s - 9ms/step - loss: 0.0484\n",
      "Epoch 64/100\n",
      "57/57 - 1s - 9ms/step - loss: 0.0484\n",
      "Epoch 65/100\n",
      "57/57 - 1s - 10ms/step - loss: 0.0484\n",
      "Epoch 66/100\n",
      "57/57 - 1s - 9ms/step - loss: 0.0483\n",
      "Epoch 67/100\n",
      "57/57 - 1s - 9ms/step - loss: 0.0483\n",
      "Epoch 68/100\n",
      "57/57 - 1s - 9ms/step - loss: 0.0483\n",
      "Epoch 69/100\n",
      "57/57 - 1s - 10ms/step - loss: 0.0483\n",
      "Epoch 70/100\n",
      "57/57 - 1s - 9ms/step - loss: 0.0483\n",
      "Epoch 71/100\n",
      "57/57 - 1s - 9ms/step - loss: 0.0483\n",
      "Epoch 72/100\n",
      "57/57 - 1s - 11ms/step - loss: 0.0483\n",
      "Epoch 73/100\n",
      "57/57 - 1s - 11ms/step - loss: 0.0483\n",
      "Epoch 74/100\n",
      "57/57 - 1s - 11ms/step - loss: 0.0483\n",
      "Epoch 75/100\n",
      "57/57 - 1s - 9ms/step - loss: 0.0483\n",
      "Epoch 76/100\n",
      "57/57 - 1s - 10ms/step - loss: 0.0483\n",
      "Epoch 77/100\n",
      "57/57 - 1s - 11ms/step - loss: 0.0483\n",
      "Epoch 78/100\n",
      "57/57 - 0s - 8ms/step - loss: 0.0483\n",
      "Epoch 79/100\n",
      "57/57 - 1s - 10ms/step - loss: 0.0483\n",
      "Epoch 80/100\n",
      "57/57 - 1s - 12ms/step - loss: 0.0483\n",
      "Epoch 81/100\n",
      "57/57 - 1s - 10ms/step - loss: 0.0482\n",
      "Epoch 82/100\n",
      "57/57 - 1s - 11ms/step - loss: 0.0482\n",
      "Epoch 83/100\n",
      "57/57 - 1s - 10ms/step - loss: 0.0482\n",
      "Epoch 84/100\n",
      "57/57 - 1s - 11ms/step - loss: 0.0482\n",
      "Epoch 85/100\n",
      "57/57 - 1s - 10ms/step - loss: 0.0482\n",
      "Epoch 86/100\n",
      "57/57 - 1s - 11ms/step - loss: 0.0482\n",
      "Epoch 87/100\n",
      "57/57 - 1s - 11ms/step - loss: 0.0482\n",
      "Epoch 88/100\n",
      "57/57 - 1s - 10ms/step - loss: 0.0482\n",
      "Epoch 89/100\n",
      "57/57 - 1s - 11ms/step - loss: 0.0482\n",
      "Epoch 90/100\n",
      "57/57 - 1s - 11ms/step - loss: 0.0482\n",
      "Epoch 91/100\n",
      "57/57 - 1s - 11ms/step - loss: 0.0482\n",
      "Epoch 92/100\n",
      "57/57 - 1s - 11ms/step - loss: 0.0482\n",
      "Epoch 93/100\n",
      "57/57 - 1s - 11ms/step - loss: 0.0482\n",
      "Epoch 94/100\n",
      "57/57 - 1s - 11ms/step - loss: 0.0482\n",
      "Epoch 95/100\n",
      "57/57 - 1s - 11ms/step - loss: 0.0482\n",
      "Epoch 96/100\n",
      "57/57 - 1s - 11ms/step - loss: 0.0482\n",
      "Epoch 97/100\n",
      "57/57 - 1s - 11ms/step - loss: 0.0482\n",
      "Epoch 98/100\n",
      "57/57 - 1s - 11ms/step - loss: 0.0482\n",
      "Epoch 99/100\n",
      "57/57 - 1s - 11ms/step - loss: 0.0482\n",
      "Epoch 100/100\n",
      "57/57 - 1s - 11ms/step - loss: 0.0481\n"
     ]
    },
    {
     "data": {
      "text/plain": [
       "<keras.src.callbacks.history.History at 0x224327e1b10>"
      ]
     },
     "execution_count": 45,
     "metadata": {},
     "output_type": "execute_result"
    }
   ],
   "source": [
    "# create and fit the LSTM network\n",
    "model = Sequential()\n",
    "# model.add(Input(shape=train_X.shape) )\n",
    "model.add(LSTM(4))\n",
    "model.add(Dense(1))\n",
    "model.compile(loss='mean_squared_error', optimizer='adam') # look at other loss functions\n",
    "model.fit(train_X, train_y, epochs=100, batch_size=1, verbose=2)"
   ]
  },
  {
   "cell_type": "code",
   "execution_count": 47,
   "metadata": {},
   "outputs": [
    {
     "name": "stdout",
     "output_type": "stream",
     "text": [
      "\u001b[1m2/2\u001b[0m \u001b[32m━━━━━━━━━━━━━━━━━━━━\u001b[0m\u001b[37m\u001b[0m \u001b[1m0s\u001b[0m 3ms/step \n",
      "\u001b[1m1/1\u001b[0m \u001b[32m━━━━━━━━━━━━━━━━━━━━\u001b[0m\u001b[37m\u001b[0m \u001b[1m0s\u001b[0m 55ms/step\n"
     ]
    },
    {
     "ename": "ValueError",
     "evalue": "non-broadcastable output operand with shape (57,1) doesn't match the broadcast shape (57,19)",
     "output_type": "error",
     "traceback": [
      "\u001b[1;31m---------------------------------------------------------------------------\u001b[0m",
      "\u001b[1;31mValueError\u001b[0m                                Traceback (most recent call last)",
      "Cell \u001b[1;32mIn[47], line 5\u001b[0m\n\u001b[0;32m      3\u001b[0m testPredict \u001b[38;5;241m=\u001b[39m model\u001b[38;5;241m.\u001b[39mpredict(test_X)\n\u001b[0;32m      4\u001b[0m \u001b[38;5;66;03m# invert predictions\u001b[39;00m\n\u001b[1;32m----> 5\u001b[0m trainPredict \u001b[38;5;241m=\u001b[39m \u001b[43mscaler\u001b[49m\u001b[38;5;241;43m.\u001b[39;49m\u001b[43minverse_transform\u001b[49m\u001b[43m(\u001b[49m\u001b[43mtrainPredict\u001b[49m\u001b[43m)\u001b[49m\n\u001b[0;32m      6\u001b[0m trainY \u001b[38;5;241m=\u001b[39m scaler\u001b[38;5;241m.\u001b[39minverse_transform([train_y])\n\u001b[0;32m      7\u001b[0m testPredict \u001b[38;5;241m=\u001b[39m scaler\u001b[38;5;241m.\u001b[39minverse_transform(testPredict)\n",
      "File \u001b[1;32mc:\\Users\\Ikhlasse\\anaconda3\\envs\\DL\\Lib\\site-packages\\sklearn\\preprocessing\\_data.py:548\u001b[0m, in \u001b[0;36mMinMaxScaler.inverse_transform\u001b[1;34m(self, X)\u001b[0m\n\u001b[0;32m    542\u001b[0m check_is_fitted(\u001b[38;5;28mself\u001b[39m)\n\u001b[0;32m    544\u001b[0m X \u001b[38;5;241m=\u001b[39m check_array(\n\u001b[0;32m    545\u001b[0m     X, copy\u001b[38;5;241m=\u001b[39m\u001b[38;5;28mself\u001b[39m\u001b[38;5;241m.\u001b[39mcopy, dtype\u001b[38;5;241m=\u001b[39mFLOAT_DTYPES, force_all_finite\u001b[38;5;241m=\u001b[39m\u001b[38;5;124m\"\u001b[39m\u001b[38;5;124mallow-nan\u001b[39m\u001b[38;5;124m\"\u001b[39m\n\u001b[0;32m    546\u001b[0m )\n\u001b[1;32m--> 548\u001b[0m \u001b[43mX\u001b[49m\u001b[43m \u001b[49m\u001b[38;5;241;43m-\u001b[39;49m\u001b[38;5;241;43m=\u001b[39;49m\u001b[43m \u001b[49m\u001b[38;5;28;43mself\u001b[39;49m\u001b[38;5;241;43m.\u001b[39;49m\u001b[43mmin_\u001b[49m\n\u001b[0;32m    549\u001b[0m X \u001b[38;5;241m/\u001b[39m\u001b[38;5;241m=\u001b[39m \u001b[38;5;28mself\u001b[39m\u001b[38;5;241m.\u001b[39mscale_\n\u001b[0;32m    550\u001b[0m \u001b[38;5;28;01mreturn\u001b[39;00m X\n",
      "\u001b[1;31mValueError\u001b[0m: non-broadcastable output operand with shape (57,1) doesn't match the broadcast shape (57,19)"
     ]
    }
   ],
   "source": [
    "# make predictions\n",
    "trainPredict = model.predict(train_X)\n",
    "testPredict = model.predict(test_X)\n",
    "# invert predictions\n",
    "trainPredict = scaler.inverse_transform(trainPredict)\n",
    "trainY = scaler.inverse_transform([train_y])\n",
    "testPredict = scaler.inverse_transform(testPredict)\n",
    "testY = scaler.inverse_transform([test_y])\n",
    "# calculate root mean squared error\n",
    "trainScore = np.sqrt(mean_squared_error(train_y[0], trainPredict[:,0]))\n",
    "print('Train Score: %.2f RMSE' % (trainScore))\n",
    "testScore = np.sqrt(mean_squared_error(test_y[0], testPredict[:,0]))\n",
    "print('Test Score: %.2f RMSE' % (testScore))\n",
    "\n",
    "test_X.shape"
   ]
  },
  {
   "cell_type": "code",
   "execution_count": null,
   "metadata": {},
   "outputs": [],
   "source": []
  }
 ],
 "metadata": {
  "kernelspec": {
   "display_name": "DL",
   "language": "python",
   "name": "python3"
  },
  "language_info": {
   "codemirror_mode": {
    "name": "ipython",
    "version": 3
   },
   "file_extension": ".py",
   "mimetype": "text/x-python",
   "name": "python",
   "nbconvert_exporter": "python",
   "pygments_lexer": "ipython3",
   "version": "3.11.6"
  }
 },
 "nbformat": 4,
 "nbformat_minor": 2
}
