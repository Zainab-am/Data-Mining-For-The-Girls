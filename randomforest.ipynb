{
 "cells": [
  {
   "cell_type": "code",
   "execution_count": 97,
   "metadata": {},
   "outputs": [],
   "source": [
    "#random forest bla bla \n",
    "#imports\n",
    "import pandas as pd \n",
    "import numpy as np \n",
    "import matplotlib.pyplot as plt\n",
    "\n",
    "from sklearn.model_selection import train_test_split, RandomizedSearchCV, TimeSeriesSplit\n",
    "from sklearn.ensemble import RandomForestClassifier, RandomForestRegressor\n",
    "from sklearn.datasets import make_classification, make_regression\n",
    "from sklearn.metrics import classification_report, accuracy_score, precision_recall_fscore_support, confusion_matrix, ConfusionMatrixDisplay, mean_absolute_error, mean_squared_error, r2_score\n",
    "from sklearn.preprocessing import LabelEncoder\n",
    "from sklearn.multioutput import MultiOutputClassifier\n",
    "\n",
    "from scipy.stats import randint\n",
    "\n",
    "import matplotlib as mpl\n",
    "import matplotlib.pyplot as plt\n"
   ]
  },
  {
   "cell_type": "code",
   "execution_count": 106,
   "metadata": {},
   "outputs": [],
   "source": [
    "#random forest classifier\n",
    "instance_based_df = pd.read_csv(\"data_new/instance_based_df.csv\")\n",
    "instance_based_target = instance_based_df['mood_avg_next']\n",
    "y = instance_based_target.round() #y is je target dus de mood_avg_next\n",
    "instance_based_cont = instance_based_df.drop('mood_avg_next', axis = 1)\n",
    "X = instance_based_cont.round() #X zijn je features\n",
    "\n",
    "column_indices = {name: i for i, name in enumerate(X.columns)}\n",
    "num_features = X.shape[1]\n",
    "\n",
    "n = len(X)\n",
    "X_train = X[0:int(n*0.7)]\n",
    "X_validation = X[int(n*0.7):int(n*0.9)]\n",
    "X_test = X[int(n*0.9):]\n",
    "\n",
    "m = len(y)\n",
    "y_train = y[0:int(m*0.7)]\n",
    "y_validation = y[int(m*0.7):int(m*0.9)]\n",
    "y_test = y[int(m*0.9):]"
   ]
  },
  {
   "cell_type": "code",
   "execution_count": 107,
   "metadata": {},
   "outputs": [
    {
     "name": "stdout",
     "output_type": "stream",
     "text": [
      "Accuracy: 0.7368421052631579\n"
     ]
    },
    {
     "name": "stderr",
     "output_type": "stream",
     "text": [
      "c:\\Users\\eigenaar\\Documents\\Data_mining\\Data-Mining-For-The-Girls\\.venv\\Lib\\site-packages\\sklearn\\model_selection\\_split.py:737: UserWarning: The least populated class in y has only 1 members, which is less than n_splits=5.\n",
      "  warnings.warn(\n"
     ]
    },
    {
     "name": "stdout",
     "output_type": "stream",
     "text": [
      "Best hyperparameters: {'max_depth': 15, 'n_estimators': 496}\n",
      "              precision    recall  f1-score   support\n",
      "\n",
      "         6.0       0.00      0.00      0.00         7\n",
      "         7.0       0.10      1.00      0.18         1\n",
      "         8.0       0.00      0.00      0.00         2\n",
      "\n",
      "    accuracy                           0.10        10\n",
      "   macro avg       0.03      0.33      0.06        10\n",
      "weighted avg       0.01      0.10      0.02        10\n",
      "\n"
     ]
    },
    {
     "name": "stderr",
     "output_type": "stream",
     "text": [
      "c:\\Users\\eigenaar\\Documents\\Data_mining\\Data-Mining-For-The-Girls\\.venv\\Lib\\site-packages\\sklearn\\metrics\\_classification.py:1509: UndefinedMetricWarning: Precision is ill-defined and being set to 0.0 in labels with no predicted samples. Use `zero_division` parameter to control this behavior.\n",
      "  _warn_prf(average, modifier, f\"{metric.capitalize()} is\", len(result))\n",
      "c:\\Users\\eigenaar\\Documents\\Data_mining\\Data-Mining-For-The-Girls\\.venv\\Lib\\site-packages\\sklearn\\metrics\\_classification.py:1509: UndefinedMetricWarning: Precision is ill-defined and being set to 0.0 in labels with no predicted samples. Use `zero_division` parameter to control this behavior.\n",
      "  _warn_prf(average, modifier, f\"{metric.capitalize()} is\", len(result))\n",
      "c:\\Users\\eigenaar\\Documents\\Data_mining\\Data-Mining-For-The-Girls\\.venv\\Lib\\site-packages\\sklearn\\metrics\\_classification.py:1509: UndefinedMetricWarning: Precision is ill-defined and being set to 0.0 in labels with no predicted samples. Use `zero_division` parameter to control this behavior.\n",
      "  _warn_prf(average, modifier, f\"{metric.capitalize()} is\", len(result))\n"
     ]
    },
    {
     "data": {
      "image/png": "[encoded data removed]",
      "text/plain": [
       "<Figure size 640x480 with 2 Axes>"
      ]
     },
     "metadata": {},
     "output_type": "display_data"
    }
   ],
   "source": [
    "#model fitting en evaluation\n",
    "rf_classifier = RandomForestClassifier()\n",
    "rf_classifier.fit(X_train, y_train)\n",
    "\n",
    "#prediction\n",
    "y_prediction = rf_classifier.predict(X_validation)\n",
    "accuracy = accuracy_score(y_validation, y_prediction)\n",
    "print(\"Accuracy:\", accuracy)\n",
    "\n",
    "#hyperparameter tuning\n",
    "param_dist = {'n_estimators': randint(20,500),\n",
    "              'max_depth': randint(1,20)}\n",
    "\n",
    "#random search gebruiken om de beste hyperparameters te vinden, n_iter (the number of parameter settings that are sampled) and cv (the number of cross-validation folds to use)\n",
    "rand_search = RandomizedSearchCV(rf_classifier, param_distributions= param_dist, n_iter=5, cv=5)  \n",
    "                                                                                                  \n",
    "#random search fitten op data\n",
    "rand_search.fit(X_train, y_train)\n",
    "\n",
    "#create variable for best model\n",
    "best_rf_classifier = rand_search.best_estimator_\n",
    "print('Best hyperparameters:', rand_search.best_params_)\n",
    "\n",
    "#confusion matrix (tradeoff between false positives (top right) and false negatives(bottom left)\n",
    "y_pred = best_rf_classifier.predict(X_test)\n",
    "cm = confusion_matrix(y_test, y_pred)\n",
    "ConfusionMatrixDisplay(confusion_matrix= cm).plot()\n",
    "\n",
    "#precision, recall, accuracy, F1-score, support\n",
    "print(classification_report(y_test, y_pred))"
   ]
  },
  {
   "cell_type": "code",
   "execution_count": 108,
   "metadata": {},
   "outputs": [],
   "source": [
    "#random forest regression\n",
    "instance_based_df = pd.read_csv(\"data_new/instance_based_df.csv\")\n",
    "instance_based_target = instance_based_df['mood_avg_next']\n",
    "y = instance_based_target #y is je target dus de mood_avg_next\n",
    "instance_based_cont = instance_based_df.drop('mood_avg_next', axis = 1)\n",
    "X = instance_based_cont #X zijn je features\n",
    "\n",
    "column_indices = {name: i for i, name in enumerate(X.columns)}\n",
    "num_features = X.shape[1]\n",
    "\n",
    "n = len(X)\n",
    "X_train = X[0:int(n*0.7)]\n",
    "X_validation = X[int(n*0.7):int(n*0.9)]\n",
    "X_test = X[int(n*0.9):]\n",
    "\n",
    "m = len(y)\n",
    "y_train = y[0:int(m*0.7)]\n",
    "y_validation = y[int(m*0.7):int(m*0.9)]\n",
    "y_test = y[int(m*0.9):]"
   ]
  },
  {
   "cell_type": "code",
   "execution_count": 110,
   "metadata": {},
   "outputs": [
    {
     "name": "stdout",
     "output_type": "stream",
     "text": [
      "Mean Squared Error: 0.19720033073591892\n",
      "R2 score: -0.37557010826654036\n",
      "Mean Absolute Error: 0.3092307015936972\n",
      "Best hyperparameters: {'max_depth': 12, 'n_estimators': 65}\n"
     ]
    }
   ],
   "source": [
    "#model fitting en evaluation\n",
    "rf_regression = RandomForestRegressor()\n",
    "rf_regression.fit(X_train, y_train)\n",
    "\n",
    "#prediction\n",
    "predictions = rf_regression.predict(X_validation)\n",
    "\n",
    "#evaluation\n",
    "mse = mean_squared_error(y_validation, predictions)\n",
    "print(f\"Mean Squared Error: {mse}\")\n",
    "\n",
    "r2 = r2_score(y_validation, predictions)\n",
    "print(f\"R2 score: {r2}\")\n",
    "\n",
    "mae = mean_absolute_error(y_validation, predictions)\n",
    "print(f\"Mean Absolute Error: {mae}\")\n",
    "\n",
    "#hyperparameter tuning\n",
    "param_dist = {'n_estimators': randint(20,500),\n",
    "              'max_depth': randint(1,20)}\n",
    "\n",
    "#random search gebruiken om de beste hyperparameters te vinden, n_iter (the number of parameter settings that are sampled) and cv (the number of cross-validation folds to use)\n",
    "rand_search = RandomizedSearchCV(rf_regression, param_distributions= param_dist, n_iter=5, cv=5)  \n",
    "                                                                                                  \n",
    "#random search fitten op data\n",
    "rand_search.fit(X_train, y_train)\n",
    "\n",
    "#create variable for best model\n",
    "best_rf_regressor = rand_search.best_estimator_\n",
    "print('Best hyperparameters:', rand_search.best_params_)\n"
   ]
  }
 ],
 "metadata": {
  "kernelspec": {
   "display_name": "Python 3",
   "language": "python",
   "name": "python3"
  },
  "language_info": {
   "codemirror_mode": {
    "name": "ipython",
    "version": 3
   },
   "file_extension": ".py",
   "mimetype": "text/x-python",
   "name": "python",
   "nbconvert_exporter": "python",
   "pygments_lexer": "ipython3",
   "version": "3.11.1"
  }
 },
 "nbformat": 4,
 "nbformat_minor": 2
}
